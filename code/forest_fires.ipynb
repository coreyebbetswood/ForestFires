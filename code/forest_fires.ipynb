{
 "cells": [
  {
   "cell_type": "code",
   "execution_count": 35,
   "metadata": {},
   "outputs": [],
   "source": [
    "import pandas as pd\n",
    "import matplotlib.pyplot as plt\n",
    "import numpy as np"
   ]
  },
  {
   "cell_type": "code",
   "execution_count": 52,
   "metadata": {},
   "outputs": [],
   "source": [
    "df = pd.read_csv('../data/forestfires.csv')"
   ]
  },
  {
   "cell_type": "code",
   "execution_count": 6,
   "metadata": {},
   "outputs": [
    {
     "name": "stdout",
     "output_type": "stream",
     "text": [
      "Index(['X', 'Y', 'month', 'day', 'FFMC', 'DMC', 'DC', 'ISI', 'temp', 'RH',\n",
      "       'wind', 'rain', 'area'],\n",
      "      dtype='object')\n"
     ]
    }
   ],
   "source": [
    "print(df.columns)"
   ]
  },
  {
   "cell_type": "code",
   "execution_count": 43,
   "metadata": {},
   "outputs": [
    {
     "name": "stdout",
     "output_type": "stream",
     "text": [
      "Total number of fires 517\n",
      "Month distribution: [2, 20, 54, 9, 2, 17, 32, 184, 172, 15, 1, 9]\n",
      "Month with most fires: August . Fires in that month: 184\n",
      "Month with least fires: November . Fires in that month: 11\n"
     ]
    }
   ],
   "source": [
    "entry_count = len(df['month'])\n",
    "print(\"Total number of fires\", entry_count)\n",
    "\n",
    "month_frequency = []\n",
    "\n",
    "for i in range(12):\n",
    "    month_frequency.append(0)\n",
    "\n",
    "for i in range(entry_count):\n",
    "    fire_month = df['month'][i]\n",
    "    if fire_month == 'jan':\n",
    "        month_frequency[0] = month_frequency[0] + 1\n",
    "    if fire_month == 'feb':\n",
    "        month_frequency[1] = month_frequency[1] + 1\n",
    "    if fire_month == 'mar':\n",
    "        month_frequency[2] = month_frequency[2] + 1\n",
    "    if fire_month == 'apr':\n",
    "        month_frequency[3] = month_frequency[3] + 1\n",
    "    if fire_month == 'may':\n",
    "        month_frequency[4] = month_frequency[4] + 1\n",
    "    if fire_month == 'jun':\n",
    "        month_frequency[5] = month_frequency[5] + 1\n",
    "    if fire_month == 'jul':\n",
    "        month_frequency[6] = month_frequency[6] + 1\n",
    "    if fire_month == 'aug':\n",
    "        month_frequency[7] = month_frequency[7] + 1\n",
    "    if fire_month == 'sep':\n",
    "        month_frequency[8] = month_frequency[8] + 1\n",
    "    if fire_month == 'oct':\n",
    "        month_frequency[9] = month_frequency[9] + 1\n",
    "    if fire_month == 'nov':\n",
    "        month_frequency[10] = month_frequency[10] + 1\n",
    "    if fire_month == 'dec':\n",
    "        month_frequency[11] = month_frequency[11] + 1\n",
    "\n",
    "print(\"Month distribution:\", month_frequency)\n",
    "\n",
    "\n",
    "\n",
    "max_value = max(month_frequency)\n",
    "\n",
    "for i in range(len(month_frequency)):\n",
    "    if month_frequency[i] == max_value:\n",
    "        max_month_number = i + 1\n",
    "\n",
    "for i in range(12):\n",
    "    if max_month_number == 1:\n",
    "        max_month = \"January\"\n",
    "    if max_month_number == 2:\n",
    "        max_month = \"February\"\n",
    "    if max_month_number == 3:\n",
    "        max_month = \"March\"\n",
    "    if max_month_number == 4:\n",
    "        max_month = \"April\"\n",
    "    if max_month_number == 5:\n",
    "        max_month = \"May\"\n",
    "    if max_month_number == 6:\n",
    "        max_month = \"June\"\n",
    "    if max_month_number == 7:\n",
    "        max_month = \"July\"\n",
    "    if max_month_number == 8:\n",
    "        max_month = \"August\"\n",
    "    if max_month_number == 9:\n",
    "        max_month = \"September\"\n",
    "    if max_month_number == 10:\n",
    "        max_month = \"October\"\n",
    "    if max_month_number == 11:\n",
    "        max_month = \"November\"\n",
    "    if max_month_number == 12:\n",
    "        max_month = \"December\"\n",
    "\n",
    "print(\"Month with most fires:\", max_month, \".\", \"Fires in that month:\", month_frequency[(max_month_number - 1)])\n",
    "\n",
    "min_value = min(month_frequency)\n",
    "\n",
    "for i in range(len(month_frequency)):\n",
    "    if month_frequency[i] == min_value:\n",
    "        min_month_number = i + 1\n",
    "\n",
    "for i in range(12):\n",
    "    if min_month_number == 1:\n",
    "        min_month = \"January\"\n",
    "    if min_month_number == 2:\n",
    "        min_month = \"February\"\n",
    "    if min_month_number == 3:\n",
    "        min_month = \"March\"\n",
    "    if min_month_number == 4:\n",
    "        min_month = \"April\"\n",
    "    if min_month_number == 5:\n",
    "        min_month = \"May\"\n",
    "    if min_month_number == 6:\n",
    "        min_month = \"June\"\n",
    "    if min_month_number == 7:\n",
    "        min_month = \"July\"\n",
    "    if min_month_number == 8:\n",
    "        min_month = \"August\"\n",
    "    if min_month_number == 9:\n",
    "        min_month = \"September\"\n",
    "    if min_month_number == 10:\n",
    "        min_month = \"October\"\n",
    "    if min_month_number == 11:\n",
    "        min_month = \"November\"\n",
    "    if min_month_number == 12:\n",
    "        min_month = \"December\"\n",
    "\n",
    "print(\"Month with least fires:\", min_month, \".\", \"Fires in that month:\", min_month_number)"
   ]
  },
  {
   "cell_type": "code",
   "execution_count": 41,
   "metadata": {},
   "outputs": [
    {
     "data": {
      "text/plain": [
       "[<matplotlib.lines.Line2D at 0x2507ed3d860>]"
      ]
     },
     "execution_count": 41,
     "metadata": {},
     "output_type": "execute_result"
    },
    {
     "data": {
      "image/png": "[encoded data removed]",
      "text/plain": [
       "<Figure size 432x288 with 1 Axes>"
      ]
     },
     "metadata": {
      "needs_background": "light"
     },
     "output_type": "display_data"
    }
   ],
   "source": [
    "plt.plot(range(12), month_frequency)"
   ]
  },
  {
   "cell_type": "code",
   "execution_count": 49,
   "metadata": {},
   "outputs": [
    {
     "name": "stdout",
     "output_type": "stream",
     "text": [
      "Empty DataFrame\n",
      "Columns: [Month, Fire Count]\n",
      "Index: []\n"
     ]
    }
   ],
   "source": [
    "data = []\n",
    "\n",
    "\n",
    "\n",
    "df_fires = pd.DataFrame(data,columns=['Month','Fire Count'])\n",
    "print(df_fires)"
   ]
  },
  {
   "cell_type": "code",
   "execution_count": 53,
   "metadata": {},
   "outputs": [
    {
     "data": {
      "text/html": [
       "<div>\n",
       "<style scoped>\n",
       "    .dataframe tbody tr th:only-of-type {\n",
       "        vertical-align: middle;\n",
       "    }\n",
       "\n",
       "    .dataframe tbody tr th {\n",
       "        vertical-align: top;\n",
       "    }\n",
       "\n",
       "    .dataframe thead th {\n",
       "        text-align: right;\n",
       "    }\n",
       "</style>\n",
       "<table border=\"1\" class=\"dataframe\">\n",
       "  <thead>\n",
       "    <tr style=\"text-align: right;\">\n",
       "      <th></th>\n",
       "      <th>X</th>\n",
       "      <th>Y</th>\n",
       "      <th>month</th>\n",
       "      <th>day</th>\n",
       "      <th>FFMC</th>\n",
       "      <th>DMC</th>\n",
       "      <th>DC</th>\n",
       "      <th>ISI</th>\n",
       "      <th>temp</th>\n",
       "      <th>RH</th>\n",
       "      <th>wind</th>\n",
       "      <th>rain</th>\n",
       "      <th>area</th>\n",
       "    </tr>\n",
       "  </thead>\n",
       "  <tbody>\n",
       "    <tr>\n",
       "      <th>0</th>\n",
       "      <td>7</td>\n",
       "      <td>5</td>\n",
       "      <td>mar</td>\n",
       "      <td>fri</td>\n",
       "      <td>86.2</td>\n",
       "      <td>26.2</td>\n",
       "      <td>94.3</td>\n",
       "      <td>5.1</td>\n",
       "      <td>8.2</td>\n",
       "      <td>51</td>\n",
       "      <td>6.7</td>\n",
       "      <td>0.0</td>\n",
       "      <td>0.0</td>\n",
       "    </tr>\n",
       "    <tr>\n",
       "      <th>1</th>\n",
       "      <td>7</td>\n",
       "      <td>4</td>\n",
       "      <td>oct</td>\n",
       "      <td>tue</td>\n",
       "      <td>90.6</td>\n",
       "      <td>35.4</td>\n",
       "      <td>669.1</td>\n",
       "      <td>6.7</td>\n",
       "      <td>18.0</td>\n",
       "      <td>33</td>\n",
       "      <td>0.9</td>\n",
       "      <td>0.0</td>\n",
       "      <td>0.0</td>\n",
       "    </tr>\n",
       "    <tr>\n",
       "      <th>2</th>\n",
       "      <td>7</td>\n",
       "      <td>4</td>\n",
       "      <td>oct</td>\n",
       "      <td>sat</td>\n",
       "      <td>90.6</td>\n",
       "      <td>43.7</td>\n",
       "      <td>686.9</td>\n",
       "      <td>6.7</td>\n",
       "      <td>14.6</td>\n",
       "      <td>33</td>\n",
       "      <td>1.3</td>\n",
       "      <td>0.0</td>\n",
       "      <td>0.0</td>\n",
       "    </tr>\n",
       "    <tr>\n",
       "      <th>3</th>\n",
       "      <td>8</td>\n",
       "      <td>6</td>\n",
       "      <td>mar</td>\n",
       "      <td>fri</td>\n",
       "      <td>91.7</td>\n",
       "      <td>33.3</td>\n",
       "      <td>77.5</td>\n",
       "      <td>9.0</td>\n",
       "      <td>8.3</td>\n",
       "      <td>97</td>\n",
       "      <td>4.0</td>\n",
       "      <td>0.2</td>\n",
       "      <td>0.0</td>\n",
       "    </tr>\n",
       "    <tr>\n",
       "      <th>4</th>\n",
       "      <td>8</td>\n",
       "      <td>6</td>\n",
       "      <td>mar</td>\n",
       "      <td>sun</td>\n",
       "      <td>89.3</td>\n",
       "      <td>51.3</td>\n",
       "      <td>102.2</td>\n",
       "      <td>9.6</td>\n",
       "      <td>11.4</td>\n",
       "      <td>99</td>\n",
       "      <td>1.8</td>\n",
       "      <td>0.0</td>\n",
       "      <td>0.0</td>\n",
       "    </tr>\n",
       "  </tbody>\n",
       "</table>\n",
       "</div>"
      ],
      "text/plain": [
       "   X  Y month  day  FFMC   DMC     DC  ISI  temp  RH  wind  rain  area\n",
       "0  7  5   mar  fri  86.2  26.2   94.3  5.1   8.2  51   6.7   0.0   0.0\n",
       "1  7  4   oct  tue  90.6  35.4  669.1  6.7  18.0  33   0.9   0.0   0.0\n",
       "2  7  4   oct  sat  90.6  43.7  686.9  6.7  14.6  33   1.3   0.0   0.0\n",
       "3  8  6   mar  fri  91.7  33.3   77.5  9.0   8.3  97   4.0   0.2   0.0\n",
       "4  8  6   mar  sun  89.3  51.3  102.2  9.6  11.4  99   1.8   0.0   0.0"
      ]
     },
     "execution_count": 53,
     "metadata": {},
     "output_type": "execute_result"
    }
   ],
   "source": [
    "df.head()"
   ]
  },
  {
   "cell_type": "code",
   "execution_count": 59,
   "metadata": {},
   "outputs": [
    {
     "data": {
      "text/plain": [
       "54"
      ]
     },
     "execution_count": 59,
     "metadata": {},
     "output_type": "execute_result"
    }
   ],
   "source": [
    "df[df['month']=='mar']['temp'].count()"
   ]
  },
  {
   "cell_type": "code",
   "execution_count": 63,
   "metadata": {},
   "outputs": [
    {
     "name": "stdout",
     "output_type": "stream",
     "text": [
      "[2, 20, 54, 9, 2, 17, 32, 184, 172, 15, 1, 9]\n",
      "[5, 9, 13, 12, 14, 20, 22, 21, 19, 17, 11, 4]\n",
      "[89, 55, 40, 46, 67, 45, 45, 45, 42, 37, 31, 38]\n"
     ]
    }
   ],
   "source": [
    "month_names=['jan', 'feb', 'mar', 'apr', 'may', 'jun', 'jul', 'aug', 'sep', 'oct', 'nov', 'dec']\n",
    "month_fire_count=[]\n",
    "month_temp_mean=[]\n",
    "month_rh_mean=[]\n",
    "\n",
    "for i in range(12):\n",
    "    month_fire_count.append(0)\n",
    "    month_fire_count[i] = month_fire_count[i] + df[df['month']==month_names[i]]['temp'].count()\n",
    "    month_temp_mean.append(0)\n",
    "    month_temp_mean[i] = month_temp_mean[i] + int(df[df['month']==month_names[i]]['temp'].mean())\n",
    "    month_rh_mean.append(0)\n",
    "    month_rh_mean[i] = month_rh_mean[i] + int(df[df['month']==month_names[i]]['RH'].mean())\n",
    "\n",
    "print(month_fire_count)\n",
    "print(month_temp_mean)\n",
    "print(month_rh_mean)\n"
   ]
  },
  {
   "cell_type": "code",
   "execution_count": 65,
   "metadata": {},
   "outputs": [
    {
     "data": {
      "text/plain": [
       "[<matplotlib.lines.Line2D at 0x2507ee5ae80>]"
      ]
     },
     "execution_count": 65,
     "metadata": {},
     "output_type": "execute_result"
    },
    {
     "data": {
      "image/png": "[encoded data removed]",
      "text/plain": [
       "<Figure size 432x288 with 1 Axes>"
      ]
     },
     "metadata": {
      "needs_background": "light"
     },
     "output_type": "display_data"
    }
   ],
   "source": [
    "plt.plot(month_names, month_fire_count, color=\"Red\", linestyle=\"solid\", linewidth=2)"
   ]
  },
  {
   "cell_type": "code",
   "execution_count": 66,
   "metadata": {},
   "outputs": [
    {
     "data": {
      "text/plain": [
       "[<matplotlib.lines.Line2D at 0x2507eecb128>]"
      ]
     },
     "execution_count": 66,
     "metadata": {},
     "output_type": "execute_result"
    },
    {
     "data": {
      "image/png": "[encoded data removed]",
      "text/plain": [
       "<Figure size 432x288 with 1 Axes>"
      ]
     },
     "metadata": {
      "needs_background": "light"
     },
     "output_type": "display_data"
    }
   ],
   "source": [
    "plt.plot(month_names, month_temp_mean, color=\"Orange\", linestyle=\"solid\", linewidth=2)"
   ]
  },
  {
   "cell_type": "code",
   "execution_count": 67,
   "metadata": {},
   "outputs": [
    {
     "data": {
      "text/plain": [
       "[<matplotlib.lines.Line2D at 0x2507ff014a8>]"
      ]
     },
     "execution_count": 67,
     "metadata": {},
     "output_type": "execute_result"
    },
    {
     "data": {
      "image/png": "[encoded data removed]",
      "text/plain": [
       "<Figure size 432x288 with 1 Axes>"
      ]
     },
     "metadata": {
      "needs_background": "light"
     },
     "output_type": "display_data"
    }
   ],
   "source": [
    "plt.plot(month_names, month_rh_mean, color=\"Purple\", linestyle=\"solid\", linewidth=2)"
   ]
  },
  {
   "cell_type": "code",
   "execution_count": null,
   "metadata": {},
   "outputs": [],
   "source": []
  }
 ],
 "metadata": {
  "kernelspec": {
   "display_name": "Python 3",
   "language": "python",
   "name": "python3"
  },
  "language_info": {
   "codemirror_mode": {
    "name": "ipython",
    "version": 3
   },
   "file_extension": ".py",
   "mimetype": "text/x-python",
   "name": "python",
   "nbconvert_exporter": "python",
   "pygments_lexer": "ipython3",
   "version": "3.7.0"
  }
 },
 "nbformat": 4,
 "nbformat_minor": 2
}
